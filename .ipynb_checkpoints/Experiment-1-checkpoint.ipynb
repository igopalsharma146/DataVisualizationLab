{
 "cells": [
  {
   "cell_type": "code",
   "execution_count": 1,
   "id": "4f36080d-8e2f-4c0f-ab17-f358a9b2bf95",
   "metadata": {},
   "outputs": [
    {
     "name": "stdout",
     "output_type": "stream",
     "text": [
      "CSV Data:\n",
      "     Age  Gender Education Level          Job Title  Years of Experience  \\\n",
      "0  32.0    Male      Bachelor's  Software Engineer                  5.0   \n",
      "1  28.0  Female        Master's       Data Analyst                  3.0   \n",
      "2  45.0    Male             PhD     Senior Manager                 15.0   \n",
      "3  36.0  Female      Bachelor's    Sales Associate                  7.0   \n",
      "4  52.0    Male        Master's           Director                 20.0   \n",
      "\n",
      "     Salary  \n",
      "0   90000.0  \n",
      "1   65000.0  \n",
      "2  150000.0  \n",
      "3   60000.0  \n",
      "4  200000.0  \n"
     ]
    }
   ],
   "source": [
    "# Import necessary libraries\n",
    "import pandas as pd\n",
    "import xml.etree.ElementTree as ET\n",
    "import sqlite3\n",
    "\n",
    "# Import CSV file\n",
    "csv_data = pd.read_csv('Salary Data.csv')\n",
    "print(\"CSV Data:\\n\", csv_data.head())\n",
    "\n"
   ]
  },
  {
   "cell_type": "code",
   "execution_count": 2,
   "id": "8ed068e5-e695-4bba-9d0a-1af88d68ff36",
   "metadata": {},
   "outputs": [
    {
     "name": "stdout",
     "output_type": "stream",
     "text": [
      "XLSX Data:\n",
      "    EmpID  Age AgeGroup Attrition     BusinessTravel  DailyRate  \\\n",
      "0  RM297   18    18-25       Yes      Travel_Rarely        230   \n",
      "1  RM302   18    18-25        No      Travel_Rarely        812   \n",
      "2  RM458   18    18-25       Yes  Travel_Frequently       1306   \n",
      "3  RM728   18    18-25        No         Non-Travel        287   \n",
      "4  RM829   18    18-25       Yes         Non-Travel        247   \n",
      "\n",
      "               Department  DistanceFromHome  Education EducationField  ...  \\\n",
      "0  Research & Development                 3          3  Life Sciences  ...   \n",
      "1                   Sales                10          3        Medical  ...   \n",
      "2                   Sales                 5          3      Marketing  ...   \n",
      "3  Research & Development                 5          2  Life Sciences  ...   \n",
      "4  Research & Development                 8          1        Medical  ...   \n",
      "\n",
      "   RelationshipSatisfaction  StandardHours  StockOptionLevel  \\\n",
      "0                         3             80                 0   \n",
      "1                         1             80                 0   \n",
      "2                         4             80                 0   \n",
      "3                         4             80                 0   \n",
      "4                         4             80                 0   \n",
      "\n",
      "  TotalWorkingYears  TrainingTimesLastYear  WorkLifeBalance  YearsAtCompany  \\\n",
      "0                 0                      2                3               0   \n",
      "1                 0                      2                3               0   \n",
      "2                 0                      3                3               0   \n",
      "3                 0                      2                3               0   \n",
      "4                 0                      0                3               0   \n",
      "\n",
      "  YearsInCurrentRole  YearsSinceLastPromotion YearsWithCurrManager  \n",
      "0                  0                        0                  0.0  \n",
      "1                  0                        0                  0.0  \n",
      "2                  0                        0                  0.0  \n",
      "3                  0                        0                  0.0  \n",
      "4                  0                        0                  0.0  \n",
      "\n",
      "[5 rows x 38 columns]\n"
     ]
    }
   ],
   "source": [
    "# Import Excel file (XLSX)\n",
    "xlsx_data = pd.read_excel('HR_Analytics.xlsx')\n",
    "print(\"XLSX Data:\\n\", xlsx_data.head())\n",
    "\n"
   ]
  },
  {
   "cell_type": "code",
   "execution_count": 3,
   "id": "9459c2dc-0f92-4145-a7cb-d437d9a928c4",
   "metadata": {},
   "outputs": [
    {
     "name": "stdout",
     "output_type": "stream",
     "text": [
      "XML Data:\n",
      "doi {}\n",
      "name {}\n",
      "description {}\n",
      "language {}\n",
      "log_type {}\n",
      "process_type {}\n",
      "creation {}\n",
      "source {}\n",
      "rights {'type': 'Public'}\n",
      "number_of_traces {}\n",
      "number_of_events {}\n",
      "events_per_trace {}\n",
      "min_events_per_trace {}\n",
      "max_events_per_trace {}\n",
      "global_attributes {}\n",
      "meta_extensions {}\n",
      "extensions {}\n"
     ]
    }
   ],
   "source": [
    "# Import XML file\n",
    "import xml.etree.ElementTree as ET\n",
    "tree = ET.parse('Data.xml')\n",
    "root = tree.getroot()\n",
    "print(\"XML Data:\")\n",
    "for child in root:\n",
    "    print(child.tag, child.attrib)\n",
    "\n"
   ]
  },
  {
   "cell_type": "code",
   "execution_count": 4,
   "id": "62c50c4b-4f77-4509-b5ae-7d2a2534659f",
   "metadata": {},
   "outputs": [],
   "source": [
    "import sqlite3\n",
    "\n",
    "# Create a new SQLite database (or connect to an existing one)\n",
    "conn = sqlite3.connect('new_database.db')\n",
    "\n",
    "# Create a cursor object\n",
    "cursor = conn.cursor()\n",
    "\n",
    "# Create a sample table\n",
    "cursor.execute('''\n",
    "CREATE TABLE students (\n",
    "    id INTEGER PRIMARY KEY,\n",
    "    name TEXT,\n",
    "    age INTEGER\n",
    ")\n",
    "''')\n",
    "\n",
    "# Insert sample data\n",
    "cursor.execute('''\n",
    "INSERT INTO students (name, age) VALUES\n",
    "('Alice', 21),\n",
    "('Bob', 22),\n",
    "('Charlie', 23)\n",
    "''')\n",
    "\n",
    "# Commit the changes and close the connection\n",
    "conn.commit()\n",
    "conn.close()\n",
    "\n"
   ]
  },
  {
   "cell_type": "code",
   "execution_count": 5,
   "id": "099835db-14d2-4948-b735-7c3943e31690",
   "metadata": {},
   "outputs": [
    {
     "name": "stdout",
     "output_type": "stream",
     "text": [
      "SQL Data:\n",
      "    id     name  age\n",
      "0   1    Alice   21\n",
      "1   2      Bob   22\n",
      "2   3  Charlie   23\n"
     ]
    }
   ],
   "source": [
    "import sqlite3\n",
    "import pandas as pd\n",
    "\n",
    "# Connect to the new SQLite database\n",
    "conn = sqlite3.connect('new_database.db')\n",
    "\n",
    "# Execute the SQL query and load the data into a DataFrame\n",
    "sql_data = pd.read_sql_query(\"SELECT * FROM students\", conn)\n",
    "\n",
    "# Print the first few rows of the DataFrame\n",
    "print(\"SQL Data:\\n\", sql_data.head())\n"
   ]
  },
  {
   "cell_type": "code",
   "execution_count": null,
   "id": "90bf3388-18fd-43a6-a84f-5d12360a78e5",
   "metadata": {},
   "outputs": [],
   "source": []
  },
  {
   "cell_type": "code",
   "execution_count": null,
   "id": "e8140241-9192-41db-8d25-10277bedc933",
   "metadata": {},
   "outputs": [],
   "source": []
  }
 ],
 "metadata": {
  "kernelspec": {
   "display_name": "Python 3 (ipykernel)",
   "language": "python",
   "name": "python3"
  },
  "language_info": {
   "codemirror_mode": {
    "name": "ipython",
    "version": 3
   },
   "file_extension": ".py",
   "mimetype": "text/x-python",
   "name": "python",
   "nbconvert_exporter": "python",
   "pygments_lexer": "ipython3",
   "version": "3.12.2"
  },
  "widgets": {
   "application/vnd.jupyter.widget-state+json": {
    "state": {},
    "version_major": 2,
    "version_minor": 0
   }
  }
 },
 "nbformat": 4,
 "nbformat_minor": 5
}
