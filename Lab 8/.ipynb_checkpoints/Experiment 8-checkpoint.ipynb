{
 "cells": [
  {
   "cell_type": "code",
   "execution_count": 8,
   "id": "0115845f-f08b-43af-abe7-8e59bb3528b4",
   "metadata": {},
   "outputs": [
    {
     "data": {
      "text/plain": [
       "(2.962098014195961, 4.837901985804038)"
      ]
     },
     "execution_count": 8,
     "metadata": {},
     "output_type": "execute_result"
    }
   ],
   "source": [
    "'''\n",
    "Example 1:\n",
    "\n",
    "In this example, we will be using the data set of size(n=20) and will be calculating the 90% confidence Intervals using the t Distribution using the t.interval() function and passing the alpha parameter to 0.90 in the python.\n",
    "'''\n",
    "import numpy as np\n",
    "\n",
    "import scipy.stats as st\n",
    "\n",
    "#define sample data\n",
    "\n",
    "gfg_data = [1, 1, 1, 2, 2, 2, 3, 3, 3, 3, 3, 4, 4, 5, 5, 5, 6, 7, 8, 10]\n",
    "\n",
    "#create 90% confidence interval \n",
    "st.t.interval(confidence=0.90, df=len(gfg_data)-1, loc=np.mean(gfg_data), scale=st.sem(gfg_data))"
   ]
  },
  {
   "cell_type": "code",
   "execution_count": 12,
   "id": "247563f9-2793-41a7-bc5b-b19606ef4022",
   "metadata": {},
   "outputs": [
    {
     "data": {
      "text/plain": [
       "(2.3481954013214263, 5.4518045986785735)"
      ]
     },
     "execution_count": 12,
     "metadata": {},
     "output_type": "execute_result"
    }
   ],
   "source": [
    "'''\n",
    "Example 2:\n",
    "\n",
    "In this example, we will be using the data set of size(n=20) and will be calculating the 90% confidence Intervals using the t Distribution using the t.interval() function and passing the alpha parameter to 0.99 in the python.\n",
    "'''\n",
    "import numpy as np\n",
    "\n",
    "import scipy.stats as st\n",
    "\n",
    "#define sample data\n",
    "\n",
    "gfg_data=[1, 1, 1, 2, 2, 2, 3, 3, 3, 3,3,4,4,5,5, 5, 6, 7,8,10]\n",
    "\n",
    "#create 90% confidence interval \n",
    "st.t.interval(confidence=0.99, df=len(gfg_data)-1, loc=np.mean(gfg_data), scale=st.sem(gfg_data))"
   ]
  },
  {
   "cell_type": "code",
   "execution_count": null,
   "id": "3788f3ea-7f61-45e3-a9bb-caa0a915bb03",
   "metadata": {},
   "outputs": [],
   "source": []
  }
 ],
 "metadata": {
  "kernelspec": {
   "display_name": "Python 3 (ipykernel)",
   "language": "python",
   "name": "python3"
  },
  "language_info": {
   "codemirror_mode": {
    "name": "ipython",
    "version": 3
   },
   "file_extension": ".py",
   "mimetype": "text/x-python",
   "name": "python",
   "nbconvert_exporter": "python",
   "pygments_lexer": "ipython3",
   "version": "3.12.2"
  },
  "widgets": {
   "application/vnd.jupyter.widget-state+json": {
    "state": {},
    "version_major": 2,
    "version_minor": 0
   }
  }
 },
 "nbformat": 4,
 "nbformat_minor": 5
}
