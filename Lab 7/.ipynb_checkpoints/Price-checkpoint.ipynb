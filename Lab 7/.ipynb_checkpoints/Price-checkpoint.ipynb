{
 "cells": [
  {
   "cell_type": "code",
   "execution_count": 1,
   "id": "e0cff501-58ce-4073-9174-a9227f4f5db4",
   "metadata": {},
   "outputs": [
    {
     "name": "stdout",
     "output_type": "stream",
     "text": [
      "1115,1168,1171,1148,1100,1169,1088,1123,1109,1072,1095,1088,1120,1129,1134,1101,1172,1154,1110,1157,1084,1084,1102,1133,1121,1053,1152,1141,1096,1118,1099,1044,1095,1166,1052,1059,1119,1055,1120,1115,1126,1047,1070,1043,1148,1163,1087,1044,1106,1040,1061,1138,1070,1054,1097,1059,1056,1158,1043,1066,1070,1169,1062,1129,1096,1066,1151,1067,1057,1141,1107,1089,1084,1120,1049,1140,1080,1070,1167,1128,1065,1143,1091,1056,1129,1148,1142,"
     ]
    },
    {
     "name": "stderr",
     "output_type": "stream",
     "text": [
      "C:\\Users\\Gopal Sharma\\AppData\\Local\\Temp\\ipykernel_2032\\639924072.py:5: DeprecationWarning: Conversion of an array with ndim > 0 to a scalar is deprecated, and will error in future. Ensure you extract a single element from your array before performing this operation. (Deprecated NumPy 1.25.)\n",
      "  print(f\"{int(x)},\",end=\"\")\n"
     ]
    }
   ],
   "source": [
    "import numpy as np\n",
    "for i in range(1,4):\n",
    "    for j in range(1,30):\n",
    "        x=np.random.randint(1040,1175,1)\n",
    "        print(f\"{int(x)},\",end=\"\")"
   ]
  },
  {
   "cell_type": "code",
   "execution_count": null,
   "id": "300d2237-ddbb-4fbc-a20a-4a9ded956775",
   "metadata": {},
   "outputs": [],
   "source": []
  }
 ],
 "metadata": {
  "kernelspec": {
   "display_name": "Python 3 (ipykernel)",
   "language": "python",
   "name": "python3"
  },
  "language_info": {
   "codemirror_mode": {
    "name": "ipython",
    "version": 3
   },
   "file_extension": ".py",
   "mimetype": "text/x-python",
   "name": "python",
   "nbconvert_exporter": "python",
   "pygments_lexer": "ipython3",
   "version": "3.12.2"
  },
  "widgets": {
   "application/vnd.jupyter.widget-state+json": {
    "state": {},
    "version_major": 2,
    "version_minor": 0
   }
  }
 },
 "nbformat": 4,
 "nbformat_minor": 5
}
