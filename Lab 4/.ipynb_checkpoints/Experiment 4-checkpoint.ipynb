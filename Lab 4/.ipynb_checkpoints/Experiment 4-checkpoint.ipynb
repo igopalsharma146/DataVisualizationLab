{
 "cells": [
  {
   "cell_type": "code",
   "execution_count": 1,
   "id": "e20f7fba-c322-43bb-b383-37fea435c6c1",
   "metadata": {},
   "outputs": [],
   "source": [
    "import pandas as pd\n",
    "\n",
    "df= pd.read_csv(\"https://raw.githubusercontent.com/JackyP/testing/master/datasets/nycflights.csv\",\n",
    "                usecols=range(1,17))"
   ]
  },
  {
   "cell_type": "code",
   "execution_count": 2,
   "id": "cf7403cd-fb28-4564-a044-f312341e522e",
   "metadata": {},
   "outputs": [
    {
     "data": {
      "text/html": [
       "<div>\n",
       "<style scoped>\n",
       "    .dataframe tbody tr th:only-of-type {\n",
       "        vertical-align: middle;\n",
       "    }\n",
       "\n",
       "    .dataframe tbody tr th {\n",
       "        vertical-align: top;\n",
       "    }\n",
       "\n",
       "    .dataframe thead th {\n",
       "        text-align: right;\n",
       "    }\n",
       "</style>\n",
       "<table border=\"1\" class=\"dataframe\">\n",
       "  <thead>\n",
       "    <tr style=\"text-align: right;\">\n",
       "      <th></th>\n",
       "      <th>year</th>\n",
       "      <th>month</th>\n",
       "      <th>day</th>\n",
       "      <th>dep_time</th>\n",
       "      <th>dep_delay</th>\n",
       "      <th>arr_time</th>\n",
       "      <th>arr_delay</th>\n",
       "      <th>carrier</th>\n",
       "      <th>tailnum</th>\n",
       "      <th>flight</th>\n",
       "      <th>origin</th>\n",
       "      <th>dest</th>\n",
       "      <th>air_time</th>\n",
       "      <th>distance</th>\n",
       "      <th>hour</th>\n",
       "      <th>minute</th>\n",
       "    </tr>\n",
       "  </thead>\n",
       "  <tbody>\n",
       "    <tr>\n",
       "      <th>3</th>\n",
       "      <td>2013</td>\n",
       "      <td>1</td>\n",
       "      <td>1</td>\n",
       "      <td>544.0</td>\n",
       "      <td>-1.0</td>\n",
       "      <td>1004.0</td>\n",
       "      <td>-18.0</td>\n",
       "      <td>B6</td>\n",
       "      <td>N804JB</td>\n",
       "      <td>725</td>\n",
       "      <td>JFK</td>\n",
       "      <td>BQN</td>\n",
       "      <td>183.0</td>\n",
       "      <td>1576</td>\n",
       "      <td>5.0</td>\n",
       "      <td>44.0</td>\n",
       "    </tr>\n",
       "    <tr>\n",
       "      <th>8</th>\n",
       "      <td>2013</td>\n",
       "      <td>1</td>\n",
       "      <td>1</td>\n",
       "      <td>557.0</td>\n",
       "      <td>-3.0</td>\n",
       "      <td>838.0</td>\n",
       "      <td>-8.0</td>\n",
       "      <td>B6</td>\n",
       "      <td>N593JB</td>\n",
       "      <td>79</td>\n",
       "      <td>JFK</td>\n",
       "      <td>MCO</td>\n",
       "      <td>140.0</td>\n",
       "      <td>944</td>\n",
       "      <td>5.0</td>\n",
       "      <td>57.0</td>\n",
       "    </tr>\n",
       "    <tr>\n",
       "      <th>10</th>\n",
       "      <td>2013</td>\n",
       "      <td>1</td>\n",
       "      <td>1</td>\n",
       "      <td>558.0</td>\n",
       "      <td>-2.0</td>\n",
       "      <td>849.0</td>\n",
       "      <td>-2.0</td>\n",
       "      <td>B6</td>\n",
       "      <td>N793JB</td>\n",
       "      <td>49</td>\n",
       "      <td>JFK</td>\n",
       "      <td>PBI</td>\n",
       "      <td>149.0</td>\n",
       "      <td>1028</td>\n",
       "      <td>5.0</td>\n",
       "      <td>58.0</td>\n",
       "    </tr>\n",
       "    <tr>\n",
       "      <th>11</th>\n",
       "      <td>2013</td>\n",
       "      <td>1</td>\n",
       "      <td>1</td>\n",
       "      <td>558.0</td>\n",
       "      <td>-2.0</td>\n",
       "      <td>853.0</td>\n",
       "      <td>-3.0</td>\n",
       "      <td>B6</td>\n",
       "      <td>N657JB</td>\n",
       "      <td>71</td>\n",
       "      <td>JFK</td>\n",
       "      <td>TPA</td>\n",
       "      <td>158.0</td>\n",
       "      <td>1005</td>\n",
       "      <td>5.0</td>\n",
       "      <td>58.0</td>\n",
       "    </tr>\n",
       "    <tr>\n",
       "      <th>15</th>\n",
       "      <td>2013</td>\n",
       "      <td>1</td>\n",
       "      <td>1</td>\n",
       "      <td>559.0</td>\n",
       "      <td>0.0</td>\n",
       "      <td>702.0</td>\n",
       "      <td>-4.0</td>\n",
       "      <td>B6</td>\n",
       "      <td>N708JB</td>\n",
       "      <td>1806</td>\n",
       "      <td>JFK</td>\n",
       "      <td>BOS</td>\n",
       "      <td>44.0</td>\n",
       "      <td>187</td>\n",
       "      <td>5.0</td>\n",
       "      <td>59.0</td>\n",
       "    </tr>\n",
       "  </tbody>\n",
       "</table>\n",
       "</div>"
      ],
      "text/plain": [
       "    year  month  day  dep_time  dep_delay  arr_time  arr_delay carrier  \\\n",
       "3   2013      1    1     544.0       -1.0    1004.0      -18.0      B6   \n",
       "8   2013      1    1     557.0       -3.0     838.0       -8.0      B6   \n",
       "10  2013      1    1     558.0       -2.0     849.0       -2.0      B6   \n",
       "11  2013      1    1     558.0       -2.0     853.0       -3.0      B6   \n",
       "15  2013      1    1     559.0        0.0     702.0       -4.0      B6   \n",
       "\n",
       "   tailnum  flight origin dest  air_time  distance  hour  minute  \n",
       "3   N804JB     725    JFK  BQN     183.0      1576   5.0    44.0  \n",
       "8   N593JB      79    JFK  MCO     140.0       944   5.0    57.0  \n",
       "10  N793JB      49    JFK  PBI     149.0      1028   5.0    58.0  \n",
       "11  N657JB      71    JFK  TPA     158.0      1005   5.0    58.0  \n",
       "15  N708JB    1806    JFK  BOS      44.0       187   5.0    59.0  "
      ]
     },
     "execution_count": 2,
     "metadata": {},
     "output_type": "execute_result"
    }
   ],
   "source": [
    "#Method 1: Dataframe way\n",
    "newdf=df[(df.origin ==\"JFK\") & (df.carrier == \"B6\")]\n",
    "\n",
    "newdf.head()"
   ]
  },
  {
   "cell_type": "code",
   "execution_count": 8,
   "id": "0de09c68-7273-4bc4-a771-9a6a7034f955",
   "metadata": {},
   "outputs": [],
   "source": [
    "# Method 2: Query Function\n",
    "newdf=df.query('origin ==\"JFK\" & carrier == \"B6\"')"
   ]
  },
  {
   "cell_type": "code",
   "execution_count": 9,
   "id": "af7d8505-e746-4767-9437-c9905d93cd68",
   "metadata": {},
   "outputs": [],
   "source": [
    "# Method 3: loc Function\n",
    "newdf=df.loc[(df.origin ==\"JFK\") & (df.carrier == \"B6\")]\n"
   ]
  },
  {
   "cell_type": "code",
   "execution_count": 12,
   "id": "e1b483d5-d5fc-48f7-9459-d67698548a42",
   "metadata": {},
   "outputs": [
    {
     "data": {
      "text/html": [
       "<div>\n",
       "<style scoped>\n",
       "    .dataframe tbody tr th:only-of-type {\n",
       "        vertical-align: middle;\n",
       "    }\n",
       "\n",
       "    .dataframe tbody tr th {\n",
       "        vertical-align: top;\n",
       "    }\n",
       "\n",
       "    .dataframe thead th {\n",
       "        text-align: right;\n",
       "    }\n",
       "</style>\n",
       "<table border=\"1\" class=\"dataframe\">\n",
       "  <thead>\n",
       "    <tr style=\"text-align: right;\">\n",
       "      <th></th>\n",
       "      <th>month</th>\n",
       "      <th>day</th>\n",
       "    </tr>\n",
       "  </thead>\n",
       "  <tbody>\n",
       "    <tr>\n",
       "      <th>2</th>\n",
       "      <td>1</td>\n",
       "      <td>1</td>\n",
       "    </tr>\n",
       "    <tr>\n",
       "      <th>3</th>\n",
       "      <td>1</td>\n",
       "      <td>1</td>\n",
       "    </tr>\n",
       "    <tr>\n",
       "      <th>4</th>\n",
       "      <td>1</td>\n",
       "      <td>1</td>\n",
       "    </tr>\n",
       "    <tr>\n",
       "      <th>5</th>\n",
       "      <td>1</td>\n",
       "      <td>1</td>\n",
       "    </tr>\n",
       "    <tr>\n",
       "      <th>6</th>\n",
       "      <td>1</td>\n",
       "      <td>1</td>\n",
       "    </tr>\n",
       "  </tbody>\n",
       "</table>\n",
       "</div>"
      ],
      "text/plain": [
       "   month  day\n",
       "2      1    1\n",
       "3      1    1\n",
       "4      1    1\n",
       "5      1    1\n",
       "6      1    1"
      ]
     },
     "execution_count": 12,
     "metadata": {},
     "output_type": "execute_result"
    }
   ],
   "source": [
    "df.iloc[:5,] #First 5 rows\n",
    "\n",
    "df.iloc[1:5,] #Second to Fifth row \n",
    "df.iloc[5,0] #Sixth row and Ist column\n",
    "\n",
    "df.iloc[1:5,0] #Second to Fifth row, first column\n",
    "\n",
    "df.iloc[1:5,:5] #Second to Fifth row, first 5 columns\n",
    "\n",
    "df.iloc[2:7,1:3] #Third to Seventh row, 2nd and 3rd column"
   ]
  },
  {
   "cell_type": "code",
   "execution_count": 14,
   "id": "142a3e66-538f-4ee7-b603-737876741f80",
   "metadata": {},
   "outputs": [],
   "source": [
    "# Long Way\n",
    "newdf=df.loc[(df.origin ==\"JFK\") | (df.carrier == \"LGA\")]\n",
    "\n",
    "# Smart Way\n",
    "newdf=df[df.origin.isin([\"JFK\",\"LGA\"])]\n"
   ]
  },
  {
   "cell_type": "code",
   "execution_count": 16,
   "id": "1df7961e-1fdf-4718-8381-fe3e2d45696f",
   "metadata": {},
   "outputs": [
    {
     "data": {
      "text/plain": [
       "array(['EWR', 'LGA'], dtype=object)"
      ]
     },
     "execution_count": 16,
     "metadata": {},
     "output_type": "execute_result"
    }
   ],
   "source": [
    "# Select rows Whose column value does not equal a specific value\n",
    "newdf=df.loc[(df.origin !=\"JFK\") | (df.carrier == \"LGA\")]\n",
    "\n",
    "pd.unique(newdf.origin)"
   ]
  },
  {
   "cell_type": "code",
   "execution_count": 17,
   "id": "31619c13-6cfe-441d-8c52-e042e1cc2740",
   "metadata": {},
   "outputs": [],
   "source": [
    "# How to negate whole condition\n",
    "newdf=df[~((df.origin ==\"JFK\") | (df.carrier == \"LGA\"))]\n"
   ]
  },
  {
   "cell_type": "code",
   "execution_count": 18,
   "id": "71910ef8-b813-4fa5-bd71-e53b353029d7",
   "metadata": {},
   "outputs": [],
   "source": [
    "# Select non Missing data in pandas Dataframe\n",
    "newdf=df[df.origin.notnull()]"
   ]
  },
  {
   "cell_type": "code",
   "execution_count": 41,
   "id": "130a95da-408a-46f3-aaa0-9d29169455b6",
   "metadata": {},
   "outputs": [],
   "source": [
    "# Filtering string in pandas dataframe\n",
    "\n",
    "import pandas as pd\n",
    "df=pd.DataFrame({\"var1\":[\"AA_2\",\"B_1\",\"C_2\",\"A_2\"]})"
   ]
  },
  {
   "cell_type": "code",
   "execution_count": 45,
   "id": "18b8d500-049f-4516-a21d-9238bd4125c8",
   "metadata": {},
   "outputs": [],
   "source": [
    "# Select rows having values starting from letter 'A'\n",
    "import pandas as pd\n",
    "df=pd.DataFrame({\"var1\":[\"AA_2\",\"B_1\",\"C_2\",\"A_2\"]})\n",
    "df=[df['var1'].str[0] =='A']\n"
   ]
  },
  {
   "cell_type": "code",
   "execution_count": 46,
   "id": "2aba32aa-cf29-497e-892b-4477268bdd32",
   "metadata": {},
   "outputs": [],
   "source": [
    "#Filtering Row having string length greater than 3\n",
    "import pandas as pd\n",
    "df=pd.DataFrame({\"var1\":[\"AA_2\",\"B_1\",\"C_2\",\"A_2\"]})\n",
    "df=[df['var1'].str.len()>3]"
   ]
  },
  {
   "cell_type": "code",
   "execution_count": 47,
   "id": "c5c6c60f-f87d-4866-a512-5b263054d028",
   "metadata": {},
   "outputs": [
    {
     "data": {
      "text/html": [
       "<div>\n",
       "<style scoped>\n",
       "    .dataframe tbody tr th:only-of-type {\n",
       "        vertical-align: middle;\n",
       "    }\n",
       "\n",
       "    .dataframe tbody tr th {\n",
       "        vertical-align: top;\n",
       "    }\n",
       "\n",
       "    .dataframe thead th {\n",
       "        text-align: right;\n",
       "    }\n",
       "</style>\n",
       "<table border=\"1\" class=\"dataframe\">\n",
       "  <thead>\n",
       "    <tr style=\"text-align: right;\">\n",
       "      <th></th>\n",
       "      <th>var1</th>\n",
       "    </tr>\n",
       "  </thead>\n",
       "  <tbody>\n",
       "    <tr>\n",
       "      <th>0</th>\n",
       "      <td>AA_2</td>\n",
       "    </tr>\n",
       "    <tr>\n",
       "      <th>1</th>\n",
       "      <td>B_1</td>\n",
       "    </tr>\n",
       "    <tr>\n",
       "      <th>3</th>\n",
       "      <td>A_2</td>\n",
       "    </tr>\n",
       "  </tbody>\n",
       "</table>\n",
       "</div>"
      ],
      "text/plain": [
       "   var1\n",
       "0  AA_2\n",
       "1   B_1\n",
       "3   A_2"
      ]
     },
     "execution_count": 47,
     "metadata": {},
     "output_type": "execute_result"
    }
   ],
   "source": [
    "# Select string containing letters A or B\n",
    "import pandas as pd\n",
    "df=pd.DataFrame({\"var1\":[\"AA_2\",\"B_1\",\"C_2\",\"A_2\"]})\n",
    "df[df['var1'].str.contains('A|B')]"
   ]
  },
  {
   "cell_type": "code",
   "execution_count": 71,
   "id": "8e452745-0b88-4b07-9fff-2041a66485e4",
   "metadata": {},
   "outputs": [],
   "source": [
    "# Handle Space in Column name while filtering \n",
    "import pandas as pd\n",
    "df=pd.DataFrame({\"var1\":[\"AA_2\",\"B_1\",\"C_2\",\"A_2\"]})\n",
    "df.rename(columns={'var1':'var2'},inplace=True)\n",
    "# newdf=df.query(\"'var2'=='AA_2'\")"
   ]
  },
  {
   "cell_type": "code",
   "execution_count": 77,
   "id": "aa41a346-7ab4-422d-865b-6f4038deca89",
   "metadata": {},
   "outputs": [],
   "source": [
    "# How to filter data without using pandas package?\n",
    "import csv\n",
    "\n",
    "import requests\n",
    "\n",
    "response=requests.get('https://dyurovsky.github.io/psyc201/data/lab2 2/nycflights.csv').text\n",
    "\n",
    "lines=response.splitlines()\n",
    "d=csv.DictReader(lines)\n",
    "\n",
    "lst_df=list(d)\n",
    "\n",
    "# lst_df"
   ]
  },
  {
   "cell_type": "code",
   "execution_count": null,
   "id": "f310060f-29f3-44b6-9124-bacfc2b1ff6a",
   "metadata": {},
   "outputs": [],
   "source": []
  }
 ],
 "metadata": {
  "kernelspec": {
   "display_name": "Python 3 (ipykernel)",
   "language": "python",
   "name": "python3"
  },
  "language_info": {
   "codemirror_mode": {
    "name": "ipython",
    "version": 3
   },
   "file_extension": ".py",
   "mimetype": "text/x-python",
   "name": "python",
   "nbconvert_exporter": "python",
   "pygments_lexer": "ipython3",
   "version": "3.12.2"
  },
  "widgets": {
   "application/vnd.jupyter.widget-state+json": {
    "state": {},
    "version_major": 2,
    "version_minor": 0
   }
  }
 },
 "nbformat": 4,
 "nbformat_minor": 5
}
